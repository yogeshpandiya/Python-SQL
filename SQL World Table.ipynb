{
 "cells": [
  {
   "cell_type": "code",
   "execution_count": 1,
   "id": "dee7f705",
   "metadata": {},
   "outputs": [],
   "source": [
    "import sqlite3\n",
    "con = sqlite3.connect('SQL.db')"
   ]
  },
  {
   "cell_type": "code",
   "execution_count": 2,
   "id": "80000c33",
   "metadata": {},
   "outputs": [
    {
     "data": {
      "text/plain": [
       "<sqlite3.Cursor at 0x18af6079ab0>"
      ]
     },
     "execution_count": 2,
     "metadata": {},
     "output_type": "execute_result"
    }
   ],
   "source": [
    "cur = con.cursor()\n",
    "cur.execute(\"CREATE TABLE World (name text, continent text, area int, population int, gdp int)\")"
   ]
  },
  {
   "cell_type": "code",
   "execution_count": 4,
   "id": "ae428813",
   "metadata": {},
   "outputs": [
    {
     "data": {
      "text/plain": [
       "<sqlite3.Cursor at 0x18af6079ab0>"
      ]
     },
     "execution_count": 4,
     "metadata": {},
     "output_type": "execute_result"
    }
   ],
   "source": [
    "cur.execute(\"INSERT INTO World VALUES ('Afghanistan', 'Asia', 652230, 25500100, 20343000 )\")\n",
    "cur.execute(\"INSERT INTO World VALUES ('Albania', 'Europe', 28748, 2831741, 12960000 )\")\n",
    "cur.execute(\"INSERT INTO World VALUES ('Algeria', 'Africa', 2381741, 37100000, 188681000 )\")\n",
    "cur.execute(\"INSERT INTO World VALUES ('Andorra', 'Europe', 468, 78115, 3712000 )\")\n",
    "cur.execute(\"INSERT INTO World VALUES ('Angola', 'Africa', 1246700, 20609294, 100990000 )\")"
   ]
  },
  {
   "cell_type": "code",
   "execution_count": 5,
   "id": "8774be52",
   "metadata": {},
   "outputs": [
    {
     "data": {
      "text/plain": [
       "[('Afghanistan', 'Asia', 652230, 25500100, 20343000),\n",
       " ('Albania', 'Europe', 28748, 2831741, 12960000),\n",
       " ('Algeria', 'Africa', 2381741, 37100000, 188681000),\n",
       " ('Andorra', 'Europe', 468, 78115, 3712000),\n",
       " ('Angola', 'Africa', 1246700, 20609294, 100990000)]"
      ]
     },
     "execution_count": 5,
     "metadata": {},
     "output_type": "execute_result"
    }
   ],
   "source": [
    "cur.execute('SELECT * FROM World')\n",
    "cur.fetchall()"
   ]
  },
  {
   "cell_type": "code",
   "execution_count": 6,
   "id": "a48910ea",
   "metadata": {},
   "outputs": [
    {
     "name": "stdout",
     "output_type": "stream",
     "text": [
      "Big Countries [('Afghanistan', 25500100, 20343000), ('Algeria', 37100000, 188681000), ('Angola', 20609294, 100990000)]\n"
     ]
    }
   ],
   "source": [
    "cur.execute('SELECT name,population,gdp FROM World WHERE gdp > 100000000 OR area > 3100000 OR population > 25000000' )\n",
    "print(\"Big Countries\", cur.fetchall())"
   ]
  },
  {
   "cell_type": "code",
   "execution_count": null,
   "id": "1227e6a1",
   "metadata": {},
   "outputs": [],
   "source": []
  }
 ],
 "metadata": {
  "kernelspec": {
   "display_name": "Python 3 (ipykernel)",
   "language": "python",
   "name": "python3"
  },
  "language_info": {
   "codemirror_mode": {
    "name": "ipython",
    "version": 3
   },
   "file_extension": ".py",
   "mimetype": "text/x-python",
   "name": "python",
   "nbconvert_exporter": "python",
   "pygments_lexer": "ipython3",
   "version": "3.9.12"
  }
 },
 "nbformat": 4,
 "nbformat_minor": 5
}
